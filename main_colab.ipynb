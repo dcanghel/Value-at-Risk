{
 "cells": [
  {
   "cell_type": "code",
   "source": [
    "from utils import fetch_data\n",
    "from var_methods import historical_var, parametric_var, monte_carlo_var\n",
    "from var_visuals import plot_vars\n",
    "from IPython.display import Image\n",
    "\n",
    "InitialInvestment = 1_000_000\n",
    "returns = fetch_data()\n",
    "\n",
    "h95 = historical_var(returns, 0.95)\n",
    "h99 = historical_var(returns, 0.99)\n",
    "n95 = parametric_var(returns, 0.95, 'normal')\n",
    "n99 = parametric_var(returns, 0.99, 'normal')\n",
    "t95 = parametric_var(returns, 0.95, 't')\n",
    "t99 = parametric_var(returns, 0.99, 't')\n",
    "mc95 = monte_carlo_var(returns, 0.95)\n",
    "mc99 = monte_carlo_var(returns, 0.99)\n",
    "\n",
    "plot_vars(returns, h95, h99, n95, n99, t95, t99, mc95, mc99)\n",
    "display(Image(filename='var_plots.png'))"
   ],
   "metadata": {},
   "execution_count": null,
   "outputs": []
  }
 ],
 "metadata": {},
 "nbformat": 4,
 "nbformat_minor": 2
}
